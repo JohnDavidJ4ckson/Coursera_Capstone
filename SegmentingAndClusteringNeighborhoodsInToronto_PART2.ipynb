{
 "cells": [
  {
   "cell_type": "markdown",
   "id": "6e5ca330",
   "metadata": {},
   "source": [
    "## First We Read the Data from the URL"
   ]
  },
  {
   "cell_type": "code",
   "execution_count": null,
   "id": "a7e7d7e5",
   "metadata": {},
   "outputs": [],
   "source": [
    "# Reading data from url\n",
    "import pandas as pd\n",
    "import requests\n",
    "from bs4 import BeautifulSoup\n",
    "\n",
    "#url = 'https://cf-courses-data.s3.us.cloud-object-storage.appdomain.cloud/IBMDeveloperSkillsNetwork-DS0701EN-SkillsNetwork/labs_v1/NewLinkWebscrapingHints.md'\n",
    "#url = 'https://en.wikipedia.org/w/index.php?title=List_of_postal_codes_of_Canada:_M&oldid=1011037969'\n",
    "url = 'https://en.wikipedia.org/w/index.php?title=List_of_postal_codes_of_Canada:_M&oldid=1011037969).'\n",
    "page=requests.get(url)\n",
    "\n",
    "soup = BeautifulSoup(page.content, \"html.parser\")\n"
   ]
  },
  {
   "cell_type": "markdown",
   "id": "e4d85c49",
   "metadata": {},
   "source": [
    "## Now We Create the table from the URL"
   ]
  },
  {
   "cell_type": "code",
   "execution_count": 41,
   "id": "f3e40286",
   "metadata": {},
   "outputs": [],
   "source": [
    "## **Firstly create a list**  \n",
    "table_contents=[]\n",
    "\n",
    "table=soup.find('table')\n"
   ]
  },
  {
   "cell_type": "markdown",
   "id": "e2afb361",
   "metadata": {},
   "source": [
    "# Let's start the webscrapping of the table"
   ]
  },
  {
   "cell_type": "code",
   "execution_count": 48,
   "id": "82c2b9b6",
   "metadata": {},
   "outputs": [],
   "source": [
    "for row in table.findAll('td'):\n",
    "#    print(row.text, 'DONE')\n",
    "#    continue\n",
    "    ## Later after finding the table and table data  create a dictionary called cell having 3 keys PostalCode, Borough and Neighborhood.**\n",
    "    cell = {}\n",
    "\n",
    "    ## As postal code contains upto 3 characters extract that using tablerow.p.text**\n",
    "    if row.span.text=='Not assigned':\n",
    "        pass\n",
    "    else:\n",
    "        cell['PostalCode'] = row.p.text[:3]\n",
    "\n",
    "         ## Next use split ,strip and replace functions for getting Borough and Neighborhood information.**.\n",
    "        cell['Borough'] = (row.span.text).split('(')[0]\n",
    "        #print (row.text)\n",
    "        #continue\n",
    "        cell['Neighborhood'] = (((((row.span.text).split('(')[1]).strip(')')).replace(' /',',')).replace(')',' ')).strip(' ')\n",
    "\n",
    "         ## Append to the list**  \n",
    "        table_contents.append(cell)\n",
    "\n",
    "#print(table_contents)\n"
   ]
  },
  {
   "cell_type": "code",
   "execution_count": 49,
   "id": "0dcd56e0",
   "metadata": {},
   "outputs": [],
   "source": [
    "## Create a dataframe with list**\n",
    "df=pd.DataFrame(table_contents)\n",
    "df['Borough']=df['Borough'].replace({'Downtown TorontoStn A PO Boxes25 The Esplanade':'Downtown Toronto Stn A',\n",
    "                                             'East TorontoBusiness reply mail Processing Centre969 Eastern':'East Toronto Business',\n",
    "                                             'EtobicokeNorthwest':'Etobicoke Northwest','East YorkEast Toronto':'East York/East Toronto',\n",
    "                                             'MississaugaCanada Post Gateway Processing Centre':'Mississauga'})\n"
   ]
  },
  {
   "cell_type": "markdown",
   "id": "094ab51b",
   "metadata": {},
   "source": [
    "# Finally we print the shape of the resulting dataframe"
   ]
  },
  {
   "cell_type": "code",
   "execution_count": 66,
   "id": "16986e46",
   "metadata": {},
   "outputs": [
    {
     "data": {
      "text/plain": [
       "(206, 3)"
      ]
     },
     "execution_count": 66,
     "metadata": {},
     "output_type": "execute_result"
    }
   ],
   "source": [
    "df.shape"
   ]
  },
  {
   "cell_type": "markdown",
   "id": "dc79ef15",
   "metadata": {},
   "source": [
    "## Now we continue opening the Geospatial data"
   ]
  },
  {
   "cell_type": "code",
   "execution_count": 62,
   "id": "bdd74b84",
   "metadata": {},
   "outputs": [
    {
     "data": {
      "text/html": [
       "<div>\n",
       "<style scoped>\n",
       "    .dataframe tbody tr th:only-of-type {\n",
       "        vertical-align: middle;\n",
       "    }\n",
       "\n",
       "    .dataframe tbody tr th {\n",
       "        vertical-align: top;\n",
       "    }\n",
       "\n",
       "    .dataframe thead th {\n",
       "        text-align: right;\n",
       "    }\n",
       "</style>\n",
       "<table border=\"1\" class=\"dataframe\">\n",
       "  <thead>\n",
       "    <tr style=\"text-align: right;\">\n",
       "      <th></th>\n",
       "      <th>Postal Code</th>\n",
       "      <th>Latitude</th>\n",
       "      <th>Longitude</th>\n",
       "    </tr>\n",
       "  </thead>\n",
       "  <tbody>\n",
       "    <tr>\n",
       "      <th>0</th>\n",
       "      <td>M1B</td>\n",
       "      <td>43.806686</td>\n",
       "      <td>-79.194353</td>\n",
       "    </tr>\n",
       "    <tr>\n",
       "      <th>1</th>\n",
       "      <td>M1C</td>\n",
       "      <td>43.784535</td>\n",
       "      <td>-79.160497</td>\n",
       "    </tr>\n",
       "    <tr>\n",
       "      <th>2</th>\n",
       "      <td>M1E</td>\n",
       "      <td>43.763573</td>\n",
       "      <td>-79.188711</td>\n",
       "    </tr>\n",
       "    <tr>\n",
       "      <th>3</th>\n",
       "      <td>M1G</td>\n",
       "      <td>43.770992</td>\n",
       "      <td>-79.216917</td>\n",
       "    </tr>\n",
       "    <tr>\n",
       "      <th>4</th>\n",
       "      <td>M1H</td>\n",
       "      <td>43.773136</td>\n",
       "      <td>-79.239476</td>\n",
       "    </tr>\n",
       "  </tbody>\n",
       "</table>\n",
       "</div>"
      ],
      "text/plain": [
       "  Postal Code   Latitude  Longitude\n",
       "0         M1B  43.806686 -79.194353\n",
       "1         M1C  43.784535 -79.160497\n",
       "2         M1E  43.763573 -79.188711\n",
       "3         M1G  43.770992 -79.216917\n",
       "4         M1H  43.773136 -79.239476"
      ]
     },
     "execution_count": 62,
     "metadata": {},
     "output_type": "execute_result"
    }
   ],
   "source": [
    "df_geodata = pd.read_csv('Geospatial_Coordinates.csv')\n",
    "df_geodata.head()"
   ]
  },
  {
   "cell_type": "markdown",
   "id": "fa470ba9",
   "metadata": {},
   "source": [
    "# Here we merge both dataframes using the Postal Code"
   ]
  },
  {
   "cell_type": "code",
   "execution_count": 70,
   "id": "273c03ad",
   "metadata": {},
   "outputs": [
    {
     "data": {
      "text/html": [
       "<div>\n",
       "<style scoped>\n",
       "    .dataframe tbody tr th:only-of-type {\n",
       "        vertical-align: middle;\n",
       "    }\n",
       "\n",
       "    .dataframe tbody tr th {\n",
       "        vertical-align: top;\n",
       "    }\n",
       "\n",
       "    .dataframe thead th {\n",
       "        text-align: right;\n",
       "    }\n",
       "</style>\n",
       "<table border=\"1\" class=\"dataframe\">\n",
       "  <thead>\n",
       "    <tr style=\"text-align: right;\">\n",
       "      <th></th>\n",
       "      <th>Postal Code</th>\n",
       "      <th>Borough</th>\n",
       "      <th>Neighborhood</th>\n",
       "      <th>Latitude</th>\n",
       "      <th>Longitude</th>\n",
       "    </tr>\n",
       "  </thead>\n",
       "  <tbody>\n",
       "    <tr>\n",
       "      <th>0</th>\n",
       "      <td>M3A</td>\n",
       "      <td>North York</td>\n",
       "      <td>Parkwoods</td>\n",
       "      <td>43.753259</td>\n",
       "      <td>-79.329656</td>\n",
       "    </tr>\n",
       "    <tr>\n",
       "      <th>1</th>\n",
       "      <td>M3A</td>\n",
       "      <td>North York</td>\n",
       "      <td>Parkwoods</td>\n",
       "      <td>43.753259</td>\n",
       "      <td>-79.329656</td>\n",
       "    </tr>\n",
       "    <tr>\n",
       "      <th>2</th>\n",
       "      <td>M4A</td>\n",
       "      <td>North York</td>\n",
       "      <td>Victoria Village</td>\n",
       "      <td>43.725882</td>\n",
       "      <td>-79.315572</td>\n",
       "    </tr>\n",
       "    <tr>\n",
       "      <th>3</th>\n",
       "      <td>M4A</td>\n",
       "      <td>North York</td>\n",
       "      <td>Victoria Village</td>\n",
       "      <td>43.725882</td>\n",
       "      <td>-79.315572</td>\n",
       "    </tr>\n",
       "    <tr>\n",
       "      <th>4</th>\n",
       "      <td>M5A</td>\n",
       "      <td>Downtown Toronto</td>\n",
       "      <td>Regent Park, Harbourfront</td>\n",
       "      <td>43.654260</td>\n",
       "      <td>-79.360636</td>\n",
       "    </tr>\n",
       "    <tr>\n",
       "      <th>5</th>\n",
       "      <td>M5A</td>\n",
       "      <td>Downtown Toronto</td>\n",
       "      <td>Regent Park, Harbourfront</td>\n",
       "      <td>43.654260</td>\n",
       "      <td>-79.360636</td>\n",
       "    </tr>\n",
       "    <tr>\n",
       "      <th>6</th>\n",
       "      <td>M6A</td>\n",
       "      <td>North York</td>\n",
       "      <td>Lawrence Manor, Lawrence Heights</td>\n",
       "      <td>43.718518</td>\n",
       "      <td>-79.464763</td>\n",
       "    </tr>\n",
       "    <tr>\n",
       "      <th>7</th>\n",
       "      <td>M6A</td>\n",
       "      <td>North York</td>\n",
       "      <td>Lawrence Manor, Lawrence Heights</td>\n",
       "      <td>43.718518</td>\n",
       "      <td>-79.464763</td>\n",
       "    </tr>\n",
       "    <tr>\n",
       "      <th>8</th>\n",
       "      <td>M7A</td>\n",
       "      <td>Queen's Park</td>\n",
       "      <td>Ontario Provincial Government</td>\n",
       "      <td>43.662301</td>\n",
       "      <td>-79.389494</td>\n",
       "    </tr>\n",
       "    <tr>\n",
       "      <th>9</th>\n",
       "      <td>M7A</td>\n",
       "      <td>Queen's Park</td>\n",
       "      <td>Ontario Provincial Government</td>\n",
       "      <td>43.662301</td>\n",
       "      <td>-79.389494</td>\n",
       "    </tr>\n",
       "    <tr>\n",
       "      <th>10</th>\n",
       "      <td>M9A</td>\n",
       "      <td>Etobicoke</td>\n",
       "      <td>Islington Avenue</td>\n",
       "      <td>43.667856</td>\n",
       "      <td>-79.532242</td>\n",
       "    </tr>\n",
       "  </tbody>\n",
       "</table>\n",
       "</div>"
      ],
      "text/plain": [
       "   Postal Code           Borough                      Neighborhood   Latitude  \\\n",
       "0          M3A        North York                         Parkwoods  43.753259   \n",
       "1          M3A        North York                         Parkwoods  43.753259   \n",
       "2          M4A        North York                  Victoria Village  43.725882   \n",
       "3          M4A        North York                  Victoria Village  43.725882   \n",
       "4          M5A  Downtown Toronto         Regent Park, Harbourfront  43.654260   \n",
       "5          M5A  Downtown Toronto         Regent Park, Harbourfront  43.654260   \n",
       "6          M6A        North York  Lawrence Manor, Lawrence Heights  43.718518   \n",
       "7          M6A        North York  Lawrence Manor, Lawrence Heights  43.718518   \n",
       "8          M7A      Queen's Park     Ontario Provincial Government  43.662301   \n",
       "9          M7A      Queen's Park     Ontario Provincial Government  43.662301   \n",
       "10         M9A         Etobicoke                  Islington Avenue  43.667856   \n",
       "\n",
       "    Longitude  \n",
       "0  -79.329656  \n",
       "1  -79.329656  \n",
       "2  -79.315572  \n",
       "3  -79.315572  \n",
       "4  -79.360636  \n",
       "5  -79.360636  \n",
       "6  -79.464763  \n",
       "7  -79.464763  \n",
       "8  -79.389494  \n",
       "9  -79.389494  \n",
       "10 -79.532242  "
      ]
     },
     "execution_count": 70,
     "metadata": {},
     "output_type": "execute_result"
    }
   ],
   "source": [
    "df_1 = df.rename(columns={'PostalCode': 'Postal Code'})\n",
    "             \n",
    "df_complete = pd.merge(df_1, df_geodata, on=\"Postal Code\")\n",
    "df_complete.head(11)"
   ]
  },
  {
   "cell_type": "code",
   "execution_count": null,
   "id": "d45d4310",
   "metadata": {},
   "outputs": [],
   "source": []
  }
 ],
 "metadata": {
  "kernelspec": {
   "display_name": "Python 3",
   "language": "python",
   "name": "python3"
  },
  "language_info": {
   "codemirror_mode": {
    "name": "ipython",
    "version": 3
   },
   "file_extension": ".py",
   "mimetype": "text/x-python",
   "name": "python",
   "nbconvert_exporter": "python",
   "pygments_lexer": "ipython3",
   "version": "3.8.8"
  }
 },
 "nbformat": 4,
 "nbformat_minor": 5
}
